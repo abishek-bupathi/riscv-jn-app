{
 "cells": [
  {
   "cell_type": "markdown",
   "metadata": {},
   "source": [
    "### 1. Importing Overlay"
   ]
  },
  {
   "cell_type": "code",
   "execution_count": 1,
   "metadata": {},
   "outputs": [
    {
     "data": {
      "application/javascript": [
       "\n",
       "require(['notebook/js/codecell'], function(codecell) {\n",
       "  codecell.CodeCell.options_default.highlight_modes[\n",
       "      'magic_text/x-csrc'] = {'reg':[/^%%microblaze/]};\n",
       "  Jupyter.notebook.events.one('kernel_ready.Kernel', function(){\n",
       "      Jupyter.notebook.get_cells().map(function(cell){\n",
       "          if (cell.cell_type == 'code'){ cell.auto_highlight(); } }) ;\n",
       "  });\n",
       "});\n"
      ]
     },
     "metadata": {},
     "output_type": "display_data"
    }
   ],
   "source": [
    "from pynq import Overlay\n",
    "import time"
   ]
  },
  {
   "cell_type": "code",
   "execution_count": 2,
   "metadata": {},
   "outputs": [],
   "source": [
    "riscv = Overlay(\"Overlay/risc_v_design.bit\")"
   ]
  },
  {
   "cell_type": "code",
   "execution_count": 3,
   "metadata": {},
   "outputs": [
    {
     "data": {
      "text/plain": [
       "dict_keys(['clk', 'core0_IOIn_0', 'core0_IOOut_0', 'core1_IOIn_1', 'core1_IOOut_1', 'ctrlSigBus', 'datToHost', 'host_datToMem', 'host_memAdd', 'host_memRd', 'host_memWr', 'rst', 'selCore1', 'useIMBit31'])"
      ]
     },
     "execution_count": 3,
     "metadata": {},
     "output_type": "execute_result"
    }
   ],
   "source": [
    "riscv.ip_dict.keys()`"
   ]
  },
  {
   "cell_type": "code",
   "execution_count": 6,
   "metadata": {},
   "outputs": [],
   "source": [
    "zero_32  = '00000000000000000000000000000000'\n",
    "zero_16  = '0000000000000000'\n",
    "zero_8   = '00000000'"
   ]
  },
  {
   "cell_type": "markdown",
   "metadata": {},
   "source": [
    "### 2. Signal Initialization"
   ]
  },
  {
   "cell_type": "code",
   "execution_count": 7,
   "metadata": {},
   "outputs": [],
   "source": [
    "core0_IOIn_0 = riscv.core0_IOIn_0\n",
    "core0_IOOut_0 = riscv.core0_IOOut_0\n",
    "core1_IOIn_1 = riscv.core1_IOIn_1\n",
    "core1_IOOut_1 = riscv.core1_IOOut_1\n",
    "datToHost = riscv.datToHost\n",
    "host_datToMem = riscv.host_datToMem\n",
    "host_memAdd = riscv.host_memAdd\n",
    "host_memRd = riscv.host_memRd\n",
    "host_memWr = riscv.host_memWr\n",
    "selCore1 = riscv.selCore1\n",
    "clk = riscv.clk\n",
    "rst = riscv.rst"
   ]
  },
  {
   "cell_type": "code",
   "execution_count": 9,
   "metadata": {},
   "outputs": [
    {
     "name": "stdout",
     "output_type": "stream",
     "text": [
      "host_datToMem working!\n",
      "host_memAdd working!\n",
      "host_memRd working!\n",
      "host_memWr working!\n",
      "selCore1 working!\n",
      "clk working!\n"
     ]
    }
   ],
   "source": [
    "# Checking output signals\n",
    "\n",
    "host_datToMem.write(0, int(\"ABCD\", 16))\n",
    "if hex(host_datToMem.read()) == \"0xabcd\":\n",
    "    print(\"host_datToMem working!\")\n",
    "else: print(\"host_datToMem not working!\")\n",
    "host_datToMem.write(0, int(zero_32, 2))\n",
    "\n",
    "host_memAdd.write(0, int(\"ABCD\", 16))\n",
    "if hex(host_memAdd.read()) == \"0xabcd\":\n",
    "    print(\"host_memAdd working!\")\n",
    "else: print(\"host_memAdd not working!\")\n",
    "host_memAdd.write(0, int(zero_32, 2))\n",
    "\n",
    "host_memRd.write(0, 1)\n",
    "if hex(host_memRd.read()) == \"0x1\":\n",
    "    print(\"host_memRd working!\")\n",
    "else: print(\"host_memRd not working!\")\n",
    "host_memRd.write(0, 0)\n",
    "\n",
    "host_memWr.write(0, 1)\n",
    "if hex(host_memWr.read()) == \"0x1\":\n",
    "    print(\"host_memWr working!\")\n",
    "else: print(\"host_memWr not working!\")\n",
    "host_memWr.write(0, 0)\n",
    "\n",
    "selCore1.write(0, 1)\n",
    "if hex(selCore1.read()) == \"0x1\":\n",
    "    print(\"selCore1 working!\")\n",
    "else: print(\"selCore1 not working!\")\n",
    "selCore1.write(0, 0)\n",
    "\n",
    "clk.write(0, 1)\n",
    "if hex(clk.read()) == \"0x1\":\n",
    "    print(\"clk working!\")\n",
    "else: print(\"clk not working!\")\n",
    "clk.write(0, 0)"
   ]
  },
  {
   "cell_type": "markdown",
   "metadata": {},
   "source": [
    "### 3. Register Addresses\n",
    "\n",
    "|Register|Address|\n",
    "|:-------|:------|\n",
    "|P0ToP1_0 (31:0)|0002 0000 00|\n",
    "|P1ToP0_0 (31:0)|0002 0008 00|\n",
    "|Instruction Memory|0004 0000-3FFC 00|\n",
    "|runAll|0005 0048 00|"
   ]
  },
  {
   "cell_type": "code",
   "execution_count": 10,
   "metadata": {},
   "outputs": [],
   "source": [
    "IMAddr_31_16 = int(\"0004\", 16)\n",
    "RBAddr_31_16 = int(\"0006\", 16)\n",
    "runAllAddr = int(\"00050048\", 16)\n",
    "P0ToP1_0Addr = int(\"00020000\", 16)\n",
    "P1ToP0_0Addr = int(\"00020008\", 16)\n",
    "pcAddr = int(\"00045000\", 16)"
   ]
  },
  {
   "cell_type": "markdown",
   "metadata": {},
   "source": [
    "### 4. Functions\n",
    "\n",
    "#### Load Assembly Program Function"
   ]
  },
  {
   "cell_type": "code",
   "execution_count": 11,
   "metadata": {},
   "outputs": [],
   "source": [
    "def load_program(program, core_no):\n",
    "    \n",
    "    # Checking valid core\n",
    "    if core_no == 0 or core_no == 1:\n",
    "        \n",
    "        print(\"Programming core \" + str(core_no) + \"...\")\n",
    "        \n",
    "        clk.write(0, 1)\n",
    "        \n",
    "        # Selecting core\n",
    "        selCore1.write(0, core_no)\n",
    "        \n",
    "        # Creating memory address with IM Address MSB\n",
    "        host_memAdd_31_16 = IMAddr_31_16\n",
    "        host_memAdd_1_0 = int(\"00\", 2)\n",
    "        \n",
    "        # Setting Write Mode\n",
    "        host_memRd.write(0, 0)\n",
    "        host_memWr.write(0, 1)\n",
    "        \n",
    "        clk.write(0, 0)\n",
    "        \n",
    "        j = 0 \n",
    "        \n",
    "        for i in range(0, 64):\n",
    "            \n",
    "            clk.write(0, 1)\n",
    "            \n",
    "            # Completing LSB of IM Address using the loop variable\n",
    "            host_memAdd_15_2 = i\n",
    "            host_memAdd_str = '{0:016b}'.format(host_memAdd_31_16) + '{0:014b}'.format(host_memAdd_15_2) + '{0:02b}'.format(host_memAdd_1_0)\n",
    "            # Writing the address\n",
    "            host_memAdd.write(0,int(host_memAdd_str, 2))\n",
    "            \n",
    "            # print(host_memAdd_str)\n",
    "            \n",
    "            # Converting the hex program value into binary\n",
    "            val = '{0:032b}'.format(int(program[i], 16))\n",
    "            \n",
    "            # Writing the program to the memory\n",
    "            host_datToMem.write(0, int(val, 2))\n",
    "                        \n",
    "            clk.write(0, 0)\n",
    "        \n",
    "        # Clearing all outputs\n",
    "        clk.write(0, 1)\n",
    "        host_memWr.write(0, 0)\n",
    "        host_memAdd.write(0, int('00000000000', 2))\n",
    "        host_datToMem.write(0, int(zero_32, 2))\n",
    "        clk.write(0, 0)\n",
    "        \n",
    "    else: print(\"Invalid core number\")\n"
   ]
  },
  {
   "cell_type": "markdown",
   "metadata": {},
   "source": [
    "#### Read Instruction Memory function"
   ]
  },
  {
   "cell_type": "code",
   "execution_count": 12,
   "metadata": {},
   "outputs": [],
   "source": [
    "def read_IM(core_no):\n",
    "    \n",
    "    # Checking valid core\n",
    "    if core_no == 0 or core_no == 1:\n",
    "        \n",
    "        print(\"\\nReading Core \" + str(core_no) + \" IM...\\n\" )\n",
    "        \n",
    "        data = []\n",
    "        \n",
    "        clk.write(0, 1)\n",
    "        \n",
    "        # Selecting core\n",
    "        selCore1.write(0, core_no)\n",
    "        host_datToMem.write(0, int(zero_32, 2))\n",
    "        \n",
    "        # Creating memory Address with IM Address MSB\n",
    "        host_memAdd_31_16 = IMAddr_31_16\n",
    "        host_memAdd_1_0 = int(\"00\", 2)\n",
    "        \n",
    "        host_memWr.write(0, 0)\n",
    "       \n",
    "        clk.write(0, 0)\n",
    "        \n",
    "        for i in range(0, 64):\n",
    "            \n",
    "            clk.write(0, 1)\n",
    "            \n",
    "            # Completing the IM address with loop variable\n",
    "            host_memAdd_15_2 = i\n",
    "            host_memAdd_str = '{0:016b}'.format(host_memAdd_31_16) + '{0:014b}'.format(host_memAdd_15_2) + '{0:02b}'.format(host_memAdd_1_0)\n",
    "            host_memAdd.write(0,int(host_memAdd_str,2))\n",
    "            \n",
    "            # Asserting read\n",
    "            host_memRd.write(0, 1)\n",
    "            \n",
    "            clk.write(0, 0)\n",
    "            \n",
    "            clk.write(0, 1)\n",
    "                \n",
    "            # Reading data from datToHost and adding to an array\n",
    "            data.append(hex(datToHost.read()))\n",
    "            \n",
    "            clk.write(0, 0)\n",
    "            \n",
    "            # Deasse\n",
    "            clk.write(0, 1)\n",
    "            host_memRd.write(0, 0)\n",
    "            clk.write(0, 0)\n",
    "            \n",
    "        \n",
    "        clk.write(0, 1)\n",
    "        host_memWr.write(0, 0)\n",
    "        host_memRd.write(0, 0)\n",
    "        host_memAdd.write(0, int(zero_32, 2))\n",
    "        host_datToMem.write(0, int(zero_32, 2))\n",
    "        clk.write(0, 0)\n",
    "        \n",
    "        print(data)\n",
    "    \n",
    "    else: print(\"Invalid core number\")"
   ]
  },
  {
   "cell_type": "markdown",
   "metadata": {},
   "source": [
    "#### Activate Processor Core Function"
   ]
  },
  {
   "cell_type": "code",
   "execution_count": 13,
   "metadata": {},
   "outputs": [],
   "source": [
    "def activate_processor(core_no):\n",
    "    \n",
    "    if core_no == 0 or core_no == 1:\n",
    "        \n",
    "        clk.write(0, 1)\n",
    "        \n",
    "        # Selecting core\n",
    "        selCore1.write(0, core_no)\n",
    "        \n",
    "        # Setting write mode\n",
    "        host_memRd.write(0, 0)\n",
    "        host_memWr.write(0, 1)\n",
    "        \n",
    "        # Writing the runAll Register address to host_memAdd\n",
    "        host_memAdd.write(0, runAllAddr)\n",
    "        clk.write(0, 0)\n",
    "        clk.write(0, 1)\n",
    "        # Asserting the runAll Register\n",
    "        host_datToMem.write(0, 1)\n",
    "        clk.write(0, 0)\n",
    "        \n",
    "        # Clearing all outputs\n",
    "        clk.write(0, 1)\n",
    "        host_memRd.write(0, 0)\n",
    "        host_memWr.write(0, 0)\n",
    "        host_memAdd.write(0, int(zero_32, 2))\n",
    "        host_datToMem.write(0, int(zero_32, 2))\n",
    "        clk.write(0, 0)\n",
    "        \n",
    "        print(\"Core \" + str(core_no) + \" Activated!\" )\n",
    "                \n",
    "    else: print(\"Invalid core number\")"
   ]
  },
  {
   "cell_type": "markdown",
   "metadata": {},
   "source": [
    "#### Deactivate Processor Core Function"
   ]
  },
  {
   "cell_type": "code",
   "execution_count": 14,
   "metadata": {},
   "outputs": [],
   "source": [
    "def deactivate_processor(core_no):\n",
    "    \n",
    "    if core_no == 0 or core_no == 1:\n",
    "        \n",
    "        clk.write(0, 1)\n",
    "        \n",
    "        # Selecting core\n",
    "        selCore1.write(0, core_no)\n",
    "        \n",
    "        # Setting write mode\n",
    "        host_memRd.write(0, 0)\n",
    "        host_memWr.write(0, 1)\n",
    "        \n",
    "        # Writing the runAll Register address to host_memAdd\n",
    "        host_memAdd.write(0, runAllAddr)\n",
    "        clk.write(0, 0)\n",
    "        clk.write(0, 1)\n",
    "        # Deasserting the runAll Register\n",
    "        host_datToMem.write(0, 0)\n",
    "        clk.write(0, 0)\n",
    "        \n",
    "        # Clearing all Outputs\n",
    "        clk.write(0, 1)\n",
    "        host_memRd.write(0, 0)\n",
    "        host_memWr.write(0, 0)\n",
    "        host_memAdd.write(0, int(zero_32, 2))\n",
    "        host_datToMem.write(0, int(zero_32, 2))\n",
    "        clk.write(0, 0)\n",
    "        \n",
    "        print(\"Core \" + str(core_no) + \" Deactivated!\" )\n",
    "        \n",
    "    else: print(\"Invalid core number\")"
   ]
  },
  {
   "cell_type": "markdown",
   "metadata": {},
   "source": [
    "#### Read Register Function"
   ]
  },
  {
   "cell_type": "code",
   "execution_count": 15,
   "metadata": {},
   "outputs": [],
   "source": [
    "def read_register(register_addr, core_no):\n",
    "    \n",
    "    if core_no == 0 or core_no == 1:\n",
    "        \n",
    "        clk.write(0, 1)\n",
    "        \n",
    "        # Selecting core \n",
    "        selCore1.write(0, core_no)\n",
    "        host_datToMem.write(0, int(zero_32, 2))\n",
    "        \n",
    "        # Creating memory address with RB Addres MSB and selected register address\n",
    "        host_memAdd_31_16 = RBAddr_31_16\n",
    "        host_memAdd_15_2 = int(register_addr, 16)\n",
    "        host_memAdd_1_0 = int(\"00\", 2)\n",
    "        host_memAdd_str = '{0:016b}'.format(host_memAdd_31_16) + '{0:014b}'.format(host_memAdd_15_2) + '{0:02b}'.format(host_memAdd_1_0)\n",
    "        \n",
    "        # Setting read mode\n",
    "        host_memWr.write(0, 0)\n",
    "        host_memRd.write(0, 1)\n",
    "        \n",
    "        # Writing the register address to host_memAdd\n",
    "        host_memAdd.write(0,int(host_memAdd_str,2))\n",
    "        # print(host_memAdd_str)\n",
    "        clk.write(0, 0)\n",
    "        \n",
    "        # Reading the register value\n",
    "        clk.write(0, 1)\n",
    "        data = hex(datToHost.read())\n",
    "        clk.write(0, 0)\n",
    "        \n",
    "        # Clearing outputs\n",
    "        clk.write(0, 1)\n",
    "        host_memRd.write(0, 0)\n",
    "        clk.write(0, 0)\n",
    "        \n",
    "        # print(\"Value of x\" + register_addr + \" in core \" + str(core_no) + \" = \" + str(data))\n",
    "        \n",
    "        return data\n",
    "    else: print(\"Invalid core number\")"
   ]
  },
  {
   "cell_type": "markdown",
   "metadata": {},
   "source": [
    "#### Read all Register Function"
   ]
  },
  {
   "cell_type": "code",
   "execution_count": 16,
   "metadata": {},
   "outputs": [],
   "source": [
    "def read_all_registers(core_no):\n",
    "    \n",
    "    if core_no == 0 or core_no == 1:\n",
    "        \n",
    "        data = []\n",
    "        \n",
    "        clk.write(0, 1)\n",
    "        \n",
    "        # Selecting Core\n",
    "        selCore1.write(0, core_no)\n",
    "        \n",
    "        # Clearing output\n",
    "        host_datToMem.write(0, int(zero_32, 2))\n",
    "        \n",
    "        # Addressing Registers\n",
    "        host_memAdd_31_16 = RBAddr_31_16\n",
    "        host_memAdd_1_0 = int(\"00\", 2)\n",
    "        \n",
    "        host_memWr.write(0, 0)\n",
    "        clk.write(0, 0)\n",
    "        \n",
    "        # Looping throug 32 register addresses\n",
    "        for i in range(0, 32):\n",
    "            \n",
    "            # Completeing the register address using loop vairable\n",
    "            host_memAdd_15_2 = i\n",
    "            host_memAdd_str = '{0:016b}'.format(host_memAdd_31_16) + '{0:014b}'.format(host_memAdd_15_2) + '{0:02b}'.format(host_memAdd_1_0)\n",
    "     \n",
    "            # print(host_memAdd_str)\n",
    "            \n",
    "            clk.write(0, 1)\n",
    "            # Writing the register address\n",
    "            host_memAdd.write(0,int(host_memAdd_str,2))\n",
    "            \n",
    "            # Asserting memRead\n",
    "            host_memRd.write(0, 1)\n",
    "            clk.write(0, 0)\n",
    "            \n",
    "            # Reading register value and adding to array\n",
    "            clk.write(0, 1)\n",
    "            data.append(hex(datToHost.read()))\n",
    "            clk.write(0, 0)\n",
    "            \n",
    "            clk.write(0, 1)\n",
    "            # Deasserting memRead\n",
    "            host_memRd.write(0, 0)\n",
    "            clk.write(0, 0)\n",
    "            \n",
    "        #print(\"\\nx0 to x31 registers value in core \" + str(core_no) + \":\\n\")\n",
    "        #print(data)\n",
    "        \n",
    "        return data\n",
    "    \n",
    "    else: print(\"Invalid core number\")"
   ]
  },
  {
   "cell_type": "markdown",
   "metadata": {},
   "source": [
    "#### Read data from the specified memory address"
   ]
  },
  {
   "cell_type": "code",
   "execution_count": 17,
   "metadata": {},
   "outputs": [],
   "source": [
    "def read_mem(mem_add, core_no):\n",
    "    \n",
    "    clk.write(0, 1)\n",
    "    \n",
    "    # Selecting Core\n",
    "    selCore1.write(0, core_no)\n",
    "    \n",
    "    # Setting read mode\n",
    "    host_memRd.write(0, 1)\n",
    "    host_memWr.write(0, 0)\n",
    "    \n",
    "    # Writing memory address\n",
    "    host_memAdd.write(0, mem_add)\n",
    "    \n",
    "    clk.write(0, 0)\n",
    "    \n",
    "    # Reading data from the processor\n",
    "    clk.write(0, 1)\n",
    "    data = hex(datToHost.read())\n",
    "    clk.write(0, 0)\n",
    "    \n",
    "    # Clearing outputs\n",
    "    clk.write(0, 1)\n",
    "    host_memRd.write(0, 0)\n",
    "    host_memWr.write(0, 0)\n",
    "    host_memAdd.write(0, int(zero_32, 2))\n",
    "    host_datToMem.write(0, int(zero_32, 2))\n",
    "    clk.write(0, 0)\n",
    "    \n",
    "    return data"
   ]
  },
  {
   "cell_type": "markdown",
   "metadata": {},
   "source": [
    "#### Read P0ToP1_0 Signal Function"
   ]
  },
  {
   "cell_type": "code",
   "execution_count": 18,
   "metadata": {},
   "outputs": [],
   "source": [
    "def read_P0ToP1_0(core_no):\n",
    "    \n",
    "    if core_no == 0 or core_no == 1:\n",
    "        \n",
    "        data = read_mem(P0ToP1_0Addr, core_no)\n",
    "        \n",
    "        # print(\"P0ToP1_0 data in core \" + str(core_no) + \" = \" + str(data))\n",
    "    \n",
    "        return data\n",
    "    \n",
    "    else: print(\"Invalid core number\")"
   ]
  },
  {
   "cell_type": "markdown",
   "metadata": {},
   "source": [
    "#### Read P1ToP0_0 Signal Function"
   ]
  },
  {
   "cell_type": "code",
   "execution_count": 19,
   "metadata": {},
   "outputs": [],
   "source": [
    "def read_P1ToP0_0(core_no):\n",
    "    \n",
    "    if core_no == 0 or core_no == 1:\n",
    "        \n",
    "        data = read_mem(P1ToP0_0Addr, core_no)\n",
    "        \n",
    "        # print(\"P1ToP0_0 data in core \" + str(core_no) + \" = \" + str(data))\n",
    "        \n",
    "        return data\n",
    "    \n",
    "    else: print(\"Invalid core number\")"
   ]
  },
  {
   "cell_type": "markdown",
   "metadata": {},
   "source": [
    "#### Read program counter "
   ]
  },
  {
   "cell_type": "code",
   "execution_count": 20,
   "metadata": {},
   "outputs": [],
   "source": [
    "def read_pc(core_no):\n",
    "    \n",
    "    if core_no == 0 or core_no == 1:\n",
    "     \n",
    "        pc_val = read_mem(pcAddr, core_no)           \n",
    "    \n",
    "        print(\"PC value in Core \" + str(core_no) + \" = \" + pc_val)\n",
    "        \n",
    "    else: print(\"Invalid core number\")"
   ]
  },
  {
   "cell_type": "markdown",
   "metadata": {},
   "source": [
    "#### Processor Reset Function "
   ]
  },
  {
   "cell_type": "code",
   "execution_count": 21,
   "metadata": {},
   "outputs": [],
   "source": [
    "def reset_sys(core_no):\n",
    "    clk.write(0, 1)\n",
    "    rst.write(0, 1)\n",
    "    clk.write(0, 0)\n",
    "    time.sleep(0.1)\n",
    "    clk.write(0, 1)\n",
    "    rst.write(0, 0)\n",
    "    clk.write(0, 1)"
   ]
  },
  {
   "cell_type": "markdown",
   "metadata": {},
   "source": [
    "### 5. Testing"
   ]
  },
  {
   "cell_type": "code",
   "execution_count": 22,
   "metadata": {},
   "outputs": [],
   "source": [
    "clearIM = [\n",
    "  \"00000000\", \"00000000\", \"00000000\", \"00000000\", \"00000000\", \"00000000\", \"00000000\", \"00000000\",\n",
    "  \"00000000\", \"00000000\", \"00000000\", \"00000000\", \"00000000\", \"00000000\", \"00000000\", \"00000000\", \n",
    "  \"00000000\", \"00000000\", \"00000000\", \"00000000\", \"00000000\", \"00000000\", \"00000000\", \"00000000\", \n",
    "  \"00000000\", \"00000000\", \"00000000\", \"00000000\", \"00000000\", \"00000000\", \"00000000\", \"00000000\", \n",
    "  \"00000000\", \"00000000\", \"00000000\", \"00000000\", \"00000000\", \"00000000\", \"00000000\", \"00000000\", \n",
    "  \"00000000\", \"00000000\", \"00000000\", \"00000000\", \"00000000\", \"00000000\", \"00000000\", \"00000000\", \n",
    "  \"00000000\", \"00000000\", \"00000000\", \"00000000\", \"00000000\", \"00000000\", \"00000000\", \"00000000\", \n",
    "  \"00000000\", \"00000000\", \"00000000\", \"00000000\", \"00000000\", \"00000000\", \"00000000\", \"00000000\"  \n",
    "]\n",
    "\n",
    "memData64 = [\n",
    "    \"deadbeef\", \"f00dcafe\", \"5a5a5a5a\", \"a5a5a5a5\", \"96969696\", \"69696969\", \"3c3c3c3c\", \"c3c3c3c3\",\n",
    "   \"beefdead\", \"cafef00d\", \"a5a5a5a5\", \"5a5a5a5a\", \"69696969\", \"96969696\", \"c3c3c3c3\", \"3c3c3c3c\",\n",
    "   \"deadbeef\", \"f00dcafe\", \"5a5a5a5a\", \"a5a5a5a5\", \"96969696\", \"69696969\", \"3c3c3c3c\", \"c3c3c3c3\",\n",
    "   \"beefdead\", \"cafef00d\", \"a5a5a5a5\", \"5a5a5a5a\", \"69696969\", \"96969696\", \"c3c3c3c3\", \"3c3c3c3c\",\n",
    "   \"deadbeef\", \"f00dcafe\", \"5a5a5a5a\", \"a5a5a5a5\", \"96969696\", \"69696969\", \"3c3c3c3c\", \"c3c3c3c3\",\n",
    "   \"beefdead\", \"cafef00d\", \"a5a5a5a5\", \"5a5a5a5a\", \"69696969\", \"96969696\", \"c3c3c3c3\", \"3c3c3c3c\",\n",
    "   \"deadbeef\", \"f00dcafe\", \"5a5a5a5a\", \"a5a5a5a5\", \"96969696\", \"69696969\", \"3c3c3c3c\", \"c3c3c3c3\",\n",
    "   \"beefdead\", \"cafef00d\", \"a5a5a5a5\", \"5a5a5a5a\", \"69696969\", \"96969696\", \"c3c3c3c3\", \"3c3c3c3c\"]"
   ]
  },
  {
   "cell_type": "markdown",
   "metadata": {},
   "source": [
    "Writing into x1, x2 and x3 Registers\n",
    "\n",
    "```assembly\n",
    "addi x1, x0, 0x1a\n",
    "addi x2, x0, 0x2b\n",
    "add  x3, x1, x2 \n",
    "```"
   ]
  },
  {
   "cell_type": "code",
   "execution_count": 24,
   "metadata": {},
   "outputs": [],
   "source": [
    "testProgram = [\n",
    "  \"01A00093\", \"02B00113\", \"002081B3\", \"00000000\", \"00000000\", \"00000000\", \"00000000\", \"00000000\",\n",
    "  \"00000000\", \"00000000\", \"00000000\", \"00000000\", \"00000000\", \"00000000\", \"00000000\", \"00000000\", \n",
    "  \"00000000\", \"00000000\", \"00000000\", \"00000000\", \"00000000\", \"00000000\", \"00000000\", \"00000000\", \n",
    "  \"00000000\", \"00000000\", \"00000000\", \"00000000\", \"00000000\", \"00000000\", \"00000000\", \"00000000\", \n",
    "  \"00000000\", \"00000000\", \"00000000\", \"00000000\", \"00000000\", \"00000000\", \"00000000\", \"00000000\", \n",
    "  \"00000000\", \"00000000\", \"00000000\", \"00000000\", \"00000000\", \"00000000\", \"00000000\", \"00000000\", \n",
    "  \"00000000\", \"00000000\", \"00000000\", \"00000000\", \"00000000\", \"00000000\", \"00000000\", \"00000000\", \n",
    "  \"00000000\", \"00000000\", \"00000000\", \"00000000\", \"00000000\", \"00000000\", \"00000000\", \"00000000\"  \n",
    "]"
   ]
  },
  {
   "cell_type": "code",
   "execution_count": 25,
   "metadata": {},
   "outputs": [
    {
     "name": "stdout",
     "output_type": "stream",
     "text": [
      "Core 0 Deactivated!\n",
      "Programming core 0...\n",
      "\n",
      "Reading Core 0 IM...\n",
      "\n",
      "['0x1a00093', '0x2b00113', '0x2081b3', '0x0', '0x0', '0x0', '0x0', '0x0', '0x0', '0x0', '0x0', '0x0', '0x0', '0x0', '0x0', '0x0', '0x0', '0x0', '0x0', '0x0', '0x0', '0x0', '0x0', '0x0', '0x0', '0x0', '0x0', '0x0', '0x0', '0x0', '0x0', '0x0', '0x0', '0x0', '0x0', '0x0', '0x0', '0x0', '0x0', '0x0', '0x0', '0x0', '0x0', '0x0', '0x0', '0x0', '0x0', '0x0', '0x0', '0x0', '0x0', '0x0', '0x0', '0x0', '0x0', '0x0', '0x0', '0x0', '0x0', '0x0', '0x0', '0x0', '0x0', '0x0']\n",
      "Core 0 Activated!\n",
      "\n",
      "Register x0 to x31 values in core 0:\n"
     ]
    },
    {
     "data": {
      "text/plain": [
       "['0x0',\n",
       " '0x1a',\n",
       " '0x2b',\n",
       " '0x45',\n",
       " '0x0',\n",
       " '0x0',\n",
       " '0x0',\n",
       " '0x0',\n",
       " '0x0',\n",
       " '0x0',\n",
       " '0x0',\n",
       " '0x0',\n",
       " '0x0',\n",
       " '0x0',\n",
       " '0x0',\n",
       " '0x0',\n",
       " '0x0',\n",
       " '0x0',\n",
       " '0x0',\n",
       " '0x0',\n",
       " '0x0',\n",
       " '0x0',\n",
       " '0x0',\n",
       " '0x0',\n",
       " '0x0',\n",
       " '0x0',\n",
       " '0x0',\n",
       " '0x0',\n",
       " '0x0',\n",
       " '0x0',\n",
       " '0x0',\n",
       " '0x0']"
      ]
     },
     "execution_count": 25,
     "metadata": {},
     "output_type": "execute_result"
    }
   ],
   "source": [
    "load_program(testProgram, 0)\n",
    "\n",
    "# Readback data from the IM\n",
    "read_IM(0)\n",
    "\n",
    "reset_sys(0)\n",
    "activate_processor(0)\n",
    "\n",
    "# Read all registers\n",
    "print(\"\\nRegister x0 to x31 values in core 0:\")\n",
    "read_all_registers(0)"
   ]
  },
  {
   "cell_type": "markdown",
   "metadata": {},
   "source": [
    "### 6. Load Assembly program into Core 0\n",
    "\n",
    "#### Assembly progam\n",
    "\n",
    "```assembly\n",
    "# Increment P0ToP1_0 every ~ second, repeating\n",
    "addi  x13, x0, 0x2F              \n",
    "\n",
    "lui  x2,  0x20000\n",
    "srli x2,  x2, 12               # x2 = 0x00020000 process-processor port base address \n",
    "decrDelayCount:                # use long instruction loop to implement ~1 second delay\n",
    " addi  x13, x13,  -1           # decrement delayCount   \n",
    " bne   x13, x0, decrDelayCount # stay in loop if delayCount > 0 \n",
    "addi  x13, x0, 0x2F             \n",
    "\n",
    "addi x3, x3,  1\t\t         # increment x3\n",
    "sw   x3, 0(x2)                # store(write) x3 to 0x00020000(P0ToP1_0), core 1 to core 0\n",
    "beq  x0,  x0, decrDelayCount  # unconditional branch\n",
    "```"
   ]
  },
  {
   "cell_type": "code",
   "execution_count": 26,
   "metadata": {},
   "outputs": [],
   "source": [
    "# Hex dump of the above assembly program\n",
    "IMaddiProgram = [\n",
    "  \"02F00693\", \"20000137\", \"00C15113\", \"FFF68693\", \"FE069EE3\", \"02F00693\", \"00118193\", \"00312023\",\n",
    "  \"FE0006E3\", \"00000000\", \"00000000\", \"00000000\", \"00000000\", \"00000000\", \"00000000\", \"00000000\", \n",
    "  \"00000000\", \"00000000\", \"00000000\", \"00000000\", \"00000000\", \"00000000\", \"00000000\", \"00000000\", \n",
    "  \"00000000\", \"00000000\", \"00000000\", \"00000000\", \"00000000\", \"00000000\", \"00000000\", \"00000000\", \n",
    "  \"00000000\", \"00000000\", \"00000000\", \"00000000\", \"00000000\", \"00000000\", \"00000000\", \"00000000\", \n",
    "  \"00000000\", \"00000000\", \"00000000\", \"00000000\", \"00000000\", \"00000000\", \"00000000\", \"00000000\", \n",
    "  \"00000000\", \"00000000\", \"00000000\", \"00000000\", \"00000000\", \"00000000\", \"00000000\", \"00000000\", \n",
    "  \"00000000\", \"00000000\", \"00000000\", \"00000000\", \"00000000\", \"00000000\", \"00000000\", \"00000000\"]"
   ]
  },
  {
   "cell_type": "code",
   "execution_count": 27,
   "metadata": {},
   "outputs": [
    {
     "name": "stdout",
     "output_type": "stream",
     "text": [
      "Programming core 0...\n",
      "Core 0 Activated!\n",
      "\n",
      "Reading Core 0 IM...\n",
      "\n",
      "['0x2f00693', '0x20000137', '0xc15113', '0xfff68693', '0xfe069ee3', '0x2f00693', '0x118193', '0x312023', '0xfe0006e3', '0x0', '0x0', '0x0', '0x0', '0x0', '0x0', '0x0', '0x0', '0x0', '0x0', '0x0', '0x0', '0x0', '0x0', '0x0', '0x0', '0x0', '0x0', '0x0', '0x0', '0x0', '0x0', '0x0', '0x0', '0x0', '0x0', '0x0', '0x0', '0x0', '0x0', '0x0', '0x0', '0x0', '0x0', '0x0', '0x0', '0x0', '0x0', '0x0', '0x0', '0x0', '0x0', '0x0', '0x0', '0x0', '0x0', '0x0', '0x0', '0x0', '0x0', '0x0', '0x0', '0x0', '0x0', '0x0']\n"
     ]
    }
   ],
   "source": [
    "load_program(IMaddiProgram, 0)\n",
    "reset_sys(0)\n",
    "activate_processor(0)\n",
    "\n",
    "# Readback data from the IM\n",
    "read_IM(0)"
   ]
  },
  {
   "cell_type": "code",
   "execution_count": 32,
   "metadata": {},
   "outputs": [
    {
     "data": {
      "text/plain": [
       "['0x0',\n",
       " '0x0',\n",
       " '0x20000',\n",
       " '0x6',\n",
       " '0x0',\n",
       " '0x0',\n",
       " '0x0',\n",
       " '0x0',\n",
       " '0x0',\n",
       " '0x0',\n",
       " '0x0',\n",
       " '0x0',\n",
       " '0x0',\n",
       " '0x1f',\n",
       " '0x0',\n",
       " '0x0',\n",
       " '0x0',\n",
       " '0x0',\n",
       " '0x0',\n",
       " '0x0',\n",
       " '0x0',\n",
       " '0x0',\n",
       " '0x0',\n",
       " '0x0',\n",
       " '0x0',\n",
       " '0x0',\n",
       " '0x0',\n",
       " '0x0',\n",
       " '0x0',\n",
       " '0x0',\n",
       " '0x0',\n",
       " '0x0']"
      ]
     },
     "execution_count": 32,
     "metadata": {},
     "output_type": "execute_result"
    }
   ],
   "source": [
    "read_all_registers(0)"
   ]
  },
  {
   "cell_type": "markdown",
   "metadata": {},
   "source": [
    "### 7. Application 1 - Interaction between core 0 and core 1"
   ]
  },
  {
   "cell_type": "markdown",
   "metadata": {},
   "source": [
    "x3 in Core 0 is incremented every second and the updated value is sent to Core 1 which reads from the P1ToP0_0 port and writes the incomming data into x5\n",
    "\n",
    "#### Core 0 Assembly program\n",
    "\n",
    "```assembly\n",
    "# Increment P0ToP1_0 every ~ second, repeating\n",
    "addi  x13, x0, 0x2F              \n",
    "\n",
    "lui  x2,  0x20000\n",
    "srli x2,  x2, 12               # x2 = 0x00020000 process-processor port base address \n",
    "decrDelayCount:                # use long instruction loop to implement ~1 second delay\n",
    " addi  x13, x13,  -1           # decrement delayCount   \n",
    " bne   x13, x0, decrDelayCount # stay in loop if delayCount > 0 \n",
    "addi  x13, x0, 0x2F             \n",
    "\n",
    "addi x3, x3,  1                 # increment x3\n",
    "sw   x3, 0(x2)                # store(write) x3 to 0x00020000(P0ToP1_0), core 1 to core 0\n",
    "beq  x0,  x0, decrDelayCount  # unconditional branch\n",
    "```\n",
    "\n",
    "#### Core 1 Assembly program\n",
    "\n",
    "```assembly\n",
    "# Increment P0ToP1_0 every ~ second, repeating\n",
    "addi  x13, x0, 0x2F                 # Approx 1 second delay for 12.5MHz clk\n",
    "\n",
    "lui  x2,  0x20000\n",
    "srli x2,  x2, 12               # x2 = 0x00020000 IO port base address \n",
    "addi x2,  x2, 8                # x2 = 0x00020008 P1ToP0_0 input port  \n",
    "\n",
    "decrDelayCount:                # use long instruction loop to implement ~1 second delay\n",
    " addi  x13, x13,  -1           # decrement delayCount   \n",
    " bne   x13, x0, decrDelayCount # stay in loop if delayCount > 0 \n",
    " addi  x13, x0, 0x2F                # Approx 1 second delay for 12.5MHz clk\n",
    "  \n",
    " lw   x5, 0(x2)                # load (read) 0x00020008 (P1ToP0_0) input to x5, core 0 to core 1\n",
    " beq  x0,  x0, decrDelayCount  # unconditional branch\n",
    "```"
   ]
  },
  {
   "cell_type": "code",
   "execution_count": 33,
   "metadata": {},
   "outputs": [],
   "source": [
    "Core0Program = [\n",
    "  \"02F00693\", \"20000137\", \"00C15113\", \"FFF68693\", \"FE069EE3\", \"02F00693\", \"00118193\", \"00312023\",\n",
    "  \"FE0006E3\", \"00000000\", \"00000000\", \"00000000\", \"00000000\", \"00000000\", \"00000000\", \"00000000\", \n",
    "  \"00000000\", \"00000000\", \"00000000\", \"00000000\", \"00000000\", \"00000000\", \"00000000\", \"00000000\", \n",
    "  \"00000000\", \"00000000\", \"00000000\", \"00000000\", \"00000000\", \"00000000\", \"00000000\", \"00000000\", \n",
    "  \"00000000\", \"00000000\", \"00000000\", \"00000000\", \"00000000\", \"00000000\", \"00000000\", \"00000000\", \n",
    "  \"00000000\", \"00000000\", \"00000000\", \"00000000\", \"00000000\", \"00000000\", \"00000000\", \"00000000\", \n",
    "  \"00000000\", \"00000000\", \"00000000\", \"00000000\", \"00000000\", \"00000000\", \"00000000\", \"00000000\", \n",
    "  \"00000000\", \"00000000\", \"00000000\", \"00000000\", \"00000000\", \"00000000\", \"00000000\", \"00000000\"]\n",
    "\n",
    "Core1Program = [\n",
    "  \"02F00693\", \"20000137\", \"00C15113\", \"00810113\", \"FFF68693\", \"FE069EE3\", \"02F00693\", \"00012283\", \n",
    "  \"FE0008E3\", \"00000000\", \"00000000\", \"00000000\", \"00000000\", \"00000000\", \"00000000\", \"00000000\", \n",
    "  \"00000000\", \"00000000\", \"00000000\", \"00000000\", \"00000000\", \"00000000\", \"00000000\", \"00000000\", \n",
    "  \"00000000\", \"00000000\", \"00000000\", \"00000000\", \"00000000\", \"00000000\", \"00000000\", \"00000000\", \n",
    "  \"00000000\", \"00000000\", \"00000000\", \"00000000\", \"00000000\", \"00000000\", \"00000000\", \"00000000\", \n",
    "  \"00000000\", \"00000000\", \"00000000\", \"00000000\", \"00000000\", \"00000000\", \"00000000\", \"00000000\", \n",
    "  \"00000000\", \"00000000\", \"00000000\", \"00000000\", \"00000000\", \"00000000\", \"00000000\", \"00000000\", \n",
    "  \"00000000\", \"00000000\", \"00000000\", \"00000000\", \"00000000\", \"00000000\", \"00000000\", \"00000000\"]"
   ]
  },
  {
   "cell_type": "code",
   "execution_count": 34,
   "metadata": {},
   "outputs": [
    {
     "name": "stdout",
     "output_type": "stream",
     "text": [
      "Programming core 0...\n",
      "\n",
      "Reading Core 0 IM...\n",
      "\n",
      "['0x2f00693', '0x20000137', '0xc15113', '0xfff68693', '0xfe069ee3', '0x2f00693', '0x118193', '0x312023', '0xfe0006e3', '0x0', '0x0', '0x0', '0x0', '0x0', '0x0', '0x0', '0x0', '0x0', '0x0', '0x0', '0x0', '0x0', '0x0', '0x0', '0x0', '0x0', '0x0', '0x0', '0x0', '0x0', '0x0', '0x0', '0x0', '0x0', '0x0', '0x0', '0x0', '0x0', '0x0', '0x0', '0x0', '0x0', '0x0', '0x0', '0x0', '0x0', '0x0', '0x0', '0x0', '0x0', '0x0', '0x0', '0x0', '0x0', '0x0', '0x0', '0x0', '0x0', '0x0', '0x0', '0x0', '0x0', '0x0', '0x0']\n",
      "Core 0 Activated!\n",
      "Programming core 1...\n",
      "\n",
      "Reading Core 1 IM...\n",
      "\n",
      "['0x2f00693', '0x20000137', '0xc15113', '0x810113', '0xfff68693', '0xfe069ee3', '0x2f00693', '0x12283', '0xfe0008e3', '0x0', '0x0', '0x0', '0x0', '0x0', '0x0', '0x0', '0x0', '0x0', '0x0', '0x0', '0x0', '0x0', '0x0', '0x0', '0x0', '0x0', '0x0', '0x0', '0x0', '0x0', '0x0', '0x0', '0x0', '0x0', '0x0', '0x0', '0x0', '0x0', '0x0', '0x0', '0x0', '0x0', '0x0', '0x0', '0x0', '0x0', '0x0', '0x0', '0x0', '0x0', '0x0', '0x0', '0x0', '0x0', '0x0', '0x0', '0x0', '0x0', '0x0', '0x0', '0x0', '0x0', '0x0', '0x0']\n",
      "Core 1 Activated!\n"
     ]
    }
   ],
   "source": [
    "# Core 0\n",
    "load_program(Core0Program, 0)\n",
    "read_IM(0)\n",
    "reset_sys(0)\n",
    "activate_processor(0)\n",
    "\n",
    "# Core 1\n",
    "load_program(Core1Program, 1)\n",
    "read_IM(1)\n",
    "activate_processor(1)"
   ]
  },
  {
   "cell_type": "code",
   "execution_count": 37,
   "metadata": {},
   "outputs": [
    {
     "name": "stdout",
     "output_type": "stream",
     "text": [
      "core 0 -> core 1 Data: 0x7\n",
      "\n",
      "Register Name\t|\tCore 0\t\t|\tCore 1 \n",
      "----------------------------------------------------------------\n",
      "x0\t\t|\t0x0\t\t|\t0x0\n",
      "x1\t\t|\t0x0\t\t|\t0x0\n",
      "x2\t\t|\t0x20000\t\t|\t0x20008\n",
      "x3 *\t\t|\t0x6 *\t\t|\t0x0\n",
      "x4\t\t|\t0x0\t\t|\t0x0\n",
      "x5 *\t\t|\t0x0\t\t|\t0x7 *\n",
      "x6\t\t|\t0x0\t\t|\t0x0\n",
      "x7\t\t|\t0x0\t\t|\t0x0\n",
      "x8\t\t|\t0x0\t\t|\t0x0\n",
      "x9\t\t|\t0x0\t\t|\t0x0\n",
      "x10\t\t|\t0x0\t\t|\t0x0\n",
      "x11\t\t|\t0x0\t\t|\t0x0\n",
      "x12\t\t|\t0x0\t\t|\t0x0\n",
      "x13\t\t|\t0x2a\t\t|\t0x18\n",
      "x14\t\t|\t0x0\t\t|\t0x0\n",
      "x15\t\t|\t0x0\t\t|\t0x0\n",
      "x16\t\t|\t0x0\t\t|\t0x0\n",
      "x17\t\t|\t0x0\t\t|\t0x0\n",
      "x18\t\t|\t0x0\t\t|\t0x0\n",
      "x19\t\t|\t0x0\t\t|\t0x0\n",
      "x20\t\t|\t0x0\t\t|\t0x0\n",
      "x21\t\t|\t0x0\t\t|\t0x0\n",
      "x22\t\t|\t0x0\t\t|\t0x0\n",
      "x23\t\t|\t0x0\t\t|\t0x0\n",
      "x24\t\t|\t0x0\t\t|\t0x0\n",
      "x25\t\t|\t0x0\t\t|\t0x0\n",
      "x26\t\t|\t0x0\t\t|\t0x0\n",
      "x27\t\t|\t0x0\t\t|\t0x0\n",
      "x28\t\t|\t0x0\t\t|\t0x0\n",
      "x29\t\t|\t0x0\t\t|\t0x0\n",
      "x30\t\t|\t0x0\t\t|\t0x0\n",
      "x31\t\t|\t0x0\t\t|\t0x0\n"
     ]
    }
   ],
   "source": [
    "core0_reg_data = read_all_registers(0)\n",
    "print(\"core 0 -> core 1 Data: \" + str(read_P1ToP0_0(1)) + \"\\n\") \n",
    "core1_reg_data = read_all_registers(1)\n",
    "\n",
    "# print(\"\\nP1 -> P0 Data: \" + str(read_P1ToP0_0(1)) + \"\\n\") \n",
    "\n",
    "print(\"Register Name\\t|\\tCore 0\\t\\t|\\tCore 1 \")\n",
    "print(\"----------------------------------------------------------------\")\n",
    "for i in range(0, 32):\n",
    "    \n",
    "    print(\"x\" + str(i) + (\" *\" if (i == 3 or i == 5) else \"\") + \"\\t\\t|\\t\" + core0_reg_data[i] + (\" *\" if (i == 3) else \"\") + \"\\t\\t|\\t\" + core1_reg_data[i] + (\" *\" if (i == 5) else \"\"))"
   ]
  },
  {
   "cell_type": "markdown",
   "metadata": {},
   "source": [
    "### 8. Application 2"
   ]
  },
  {
   "cell_type": "markdown",
   "metadata": {},
   "source": [
    "In core 0, x3 is incremented by 1 and the updated value is sent to core 1 while core 1 further increments the recieved value by 1 and sends it back to core 0\n",
    "\n",
    "#### Core 0 program\n",
    "\n",
    "```assembly\n",
    "# Increment P0ToP1_0 every ~ second, repeating\n",
    "addi  x13, x0, 0x2              \n",
    "addi x3, x0, 0x48\n",
    "\n",
    "lui  x1,  0x20000\n",
    "srli x1,  x1, 12               # x2 = 0x00020000 process-processor port base address \n",
    "\n",
    "lui  x2,  0x20000\n",
    "srli x2,  x2, 12               # x2 = 0x00020000 IO port base address \n",
    "addi x2,  x2, 8                # x2 = 0x00020008 P1ToP0_0 input port  \n",
    "\n",
    "mainLoop:   \n",
    " addi x4, x3,  1                # increment x4\n",
    " sw   x4, 0(x1)                 # store(write) x3 to 0x00020000(P0ToP1_0), core 1 to core 0\n",
    "\n",
    " addi x12, x4, 1\n",
    " \n",
    " delayLoop:\n",
    " \taddi  x13, x13,  -1           # decrement delayCount   \n",
    " \tbne   x13, x0, delayLoop # stay in loop if delayCount > 0 \n",
    " addi  x13, x0, 0x2 \n",
    " \n",
    " lw   x3, 0(x2)                # Read data from core 1 via P1ToP0_0\n",
    " \n",
    " bne   x12, x3, mainLoop      # stay in loop until data recieved from core 1  \n",
    "\n",
    "beq  x0,  x0, mainLoop   # unconditional branch\n",
    "```\n",
    "\n",
    "#### Core 1 program\n",
    "```assembly\n",
    "# Increment P0ToP1_0 every ~ second, repeating\n",
    "addi  x13, x0, 0x2F                 # Approx 1 second delay for 12.5MHz clk\n",
    "\n",
    "lui  x1,  0x20000\n",
    "srli x1,  x1, 12               # x2 = 0x00020000 process-processor port base address \n",
    "\n",
    "lui  x2,  0x20000\n",
    "srli x2,  x2, 12               # x2 = 0x00020000 IO port base address \n",
    "addi x2,  x2, 8                # x2 = 0x00020008 P1ToP0_0 input port  \n",
    "\n",
    "decrDelayCount:                # use long instruction loop to implement ~1 second delay\n",
    " addi  x13, x13,  -1           # decrement delayCount   \n",
    " bne   x13, x0, decrDelayCount # stay in loop if delayCount > 0 \n",
    " addi  x13, x0, 0x2F                # Approx 1 second delay for 12.5MHz clk\n",
    "\n",
    " lw   x5, 0(x2)                # load (read) 0x00020008 (P1ToP0_0) input to x5, core 0 to core 1\n",
    " addi x6, x5, 1\t\t\t\t   # Increment x5\n",
    " sw   x6, 0(x1)\n",
    " beq  x0,  x0, decrDelayCount  # unconditional branch\n",
    "```"
   ]
  },
  {
   "cell_type": "code",
   "execution_count": 38,
   "metadata": {},
   "outputs": [],
   "source": [
    "core0Program = [\n",
    "  \"00200693\", \"04800193\", \"200000B7\", \"00C0D093\", \"20000137\", \"00C15113\", \"00810113\", \"00118213\",\n",
    "  \"0040A023\",\"00120613\", \"FFF68693\", \"FE069EE3\", \"00200693\", \"00012183\", \"FE3612E3\", \"FE0000E3\", \n",
    "  \"00000000\", \"00000000\", \"00000000\", \"00000000\", \"00000000\", \"00000000\", \"00000000\", \"00000000\", \n",
    "  \"00000000\", \"00000000\", \"00000000\", \"00000000\", \"00000000\", \"00000000\", \"00000000\", \"00000000\", \n",
    "  \"00000000\", \"00000000\", \"00000000\", \"00000000\", \"00000000\", \"00000000\", \"00000000\", \"00000000\", \n",
    "  \"00000000\", \"00000000\", \"00000000\", \"00000000\", \"00000000\", \"00000000\", \"00000000\", \"00000000\", \n",
    "  \"00000000\", \"00000000\", \"00000000\", \"00000000\", \"00000000\", \"00000000\", \"00000000\", \"00000000\", \n",
    "  \"00000000\", \"00000000\", \"00000000\", \"00000000\", \"00000000\", \"00000000\", \"00000000\", \"00000000\"]\n",
    "\n",
    "core1Program = [\n",
    "  \"02F00693\", \"200000B7\", \"00C0D093\", \"20000137\", \"00C15113\", \"00810113\", \"FFF68693\", \"FE069EE3\",\n",
    "  \"02F00693\", \"00012283\", \"00128313\", \"0060A023\", \"FE0004E3\", \"00000000\", \"00000000\", \"00000000\", \n",
    "  \"00000000\", \"00000000\", \"00000000\", \"00000000\", \"00000000\", \"00000000\", \"00000000\", \"00000000\", \n",
    "  \"00000000\", \"00000000\", \"00000000\", \"00000000\", \"00000000\", \"00000000\", \"00000000\", \"00000000\", \n",
    "  \"00000000\", \"00000000\", \"00000000\", \"00000000\", \"00000000\", \"00000000\", \"00000000\", \"00000000\", \n",
    "  \"00000000\", \"00000000\", \"00000000\", \"00000000\", \"00000000\", \"00000000\", \"00000000\", \"00000000\", \n",
    "  \"00000000\", \"00000000\", \"00000000\", \"00000000\", \"00000000\", \"00000000\", \"00000000\", \"00000000\", \n",
    "  \"00000000\", \"00000000\", \"00000000\", \"00000000\", \"00000000\", \"00000000\", \"00000000\", \"00000000\"]"
   ]
  },
  {
   "cell_type": "code",
   "execution_count": 41,
   "metadata": {},
   "outputs": [
    {
     "name": "stdout",
     "output_type": "stream",
     "text": [
      "Programming core 0...\n",
      "\n",
      "Reading Core 0 IM...\n",
      "\n",
      "['0x200693', '0x4800193', '0x200000b7', '0xc0d093', '0x20000137', '0xc15113', '0x810113', '0x118213', '0x40a023', '0x120613', '0xfff68693', '0xfe069ee3', '0x200693', '0x12183', '0xfe3612e3', '0xfe0000e3', '0x0', '0x0', '0x0', '0x0', '0x0', '0x0', '0x0', '0x0', '0x0', '0x0', '0x0', '0x0', '0x0', '0x0', '0x0', '0x0', '0x0', '0x0', '0x0', '0x0', '0x0', '0x0', '0x0', '0x0', '0x0', '0x0', '0x0', '0x0', '0x0', '0x0', '0x0', '0x0', '0x0', '0x0', '0x0', '0x0', '0x0', '0x0', '0x0', '0x0', '0x0', '0x0', '0x0', '0x0', '0x0', '0x0', '0x0', '0x0']\n",
      "Programming core 1...\n",
      "\n",
      "Reading Core 1 IM...\n",
      "\n",
      "['0x2f00693', '0x200000b7', '0xc0d093', '0x20000137', '0xc15113', '0x810113', '0xfff68693', '0xfe069ee3', '0x2f00693', '0x12283', '0x128313', '0x60a023', '0xfe0004e3', '0x0', '0x0', '0x0', '0x0', '0x0', '0x0', '0x0', '0x0', '0x0', '0x0', '0x0', '0x0', '0x0', '0x0', '0x0', '0x0', '0x0', '0x0', '0x0', '0x0', '0x0', '0x0', '0x0', '0x0', '0x0', '0x0', '0x0', '0x0', '0x0', '0x0', '0x0', '0x0', '0x0', '0x0', '0x0', '0x0', '0x0', '0x0', '0x0', '0x0', '0x0', '0x0', '0x0', '0x0', '0x0', '0x0', '0x0', '0x0', '0x0', '0x0', '0x0']\n",
      "Core 0 Activated!\n",
      "Core 1 Activated!\n"
     ]
    }
   ],
   "source": [
    "# Core 0\n",
    "load_program(core0Program, 0)\n",
    "read_IM(0)\n",
    "reset_sys(0)\n",
    "\n",
    "\n",
    "# Core 1\n",
    "load_program(core1Program, 1)\n",
    "read_IM(1)\n",
    "\n",
    "activate_processor(0)\n",
    "activate_processor(1)"
   ]
  },
  {
   "cell_type": "code",
   "execution_count": 46,
   "metadata": {},
   "outputs": [
    {
     "name": "stdout",
     "output_type": "stream",
     "text": [
      "\t\t\t |Core 0\t\t\t\t\t|Core 1\n",
      "\t\t\t |----------------------------------------------|------------------------------------------\n",
      "Program\t\t\t |x3\tx4\tP0ToP1_0\tP1ToP0_0\t|x5\tx6\tP0ToP1_0\tP1ToP0_0\n",
      "-------------------------|----------------------------------------------|------------------------------------------\n",
      "c0 x4 = x3 + 1 \t\t |0x16\t0x17\t\t\t\t\t|\n",
      "c0 store x4 in P0ToP1_0  |\t\t0x17\t\t\t\t|\t\t\t\t0x17\n",
      "c1 load x5 from P1ToP0_0 |\t\t\t\t\t\t|0x17\n",
      "c1 x6 = x5 + 1 \t\t |\t\t\t\t\t\t|\t0x18\n",
      "c1 store x6 in P0ToP1_0  |\t\t\t\t0x18\t\t|\t\t0x18\n",
      "c0 load x3 from P1ToP0_0 |0x18\t\t\t\t\t\t|\n"
     ]
    }
   ],
   "source": [
    "# Core 0\n",
    "load_program(core0Program, 0)\n",
    "reset_sys(0)\n",
    "\n",
    "# Core 1\n",
    "load_program(core1Program, 1)\n",
    "\n",
    "# Activate both cores\n",
    "activate_processor(0)\n",
    "activate_processor(1)\n",
    "\n",
    "# Read Register and Ports\n",
    "core0_P0ToP1_0_data = read_P0ToP1_0(0) \n",
    "core1_P1ToP0_0_data = read_P1ToP0_0(1)\n",
    "\n",
    "core0_reg_data = read_all_registers(0)\n",
    "\n",
    "core0_P1ToP0_0_data = read_P1ToP0_0(0)\n",
    "core1_P0ToP1_0_data = read_P0ToP1_0(1)\n",
    "core0_x3_dat = read_register(\"3\", 0)\n",
    "core1_reg_data = read_all_registers(1)\n",
    "\n",
    "\n",
    "print(\"\\t\\t\\t |Core 0\\t\\t\\t\\t\\t|Core 1\")\n",
    "print(\"\\t\\t\\t |----------------------------------------------|------------------------------------------\")\n",
    "print(\"Program\\t\\t\\t |x3\\tx4\\tP0ToP1_0\\tP1ToP0_0\\t|x5\\tx6\\tP0ToP1_0\\tP1ToP0_0\")\n",
    "print(\"-------------------------|----------------------------------------------|------------------------------------------\")\n",
    "print(\"c0 x4 = x3 + 1 \\t\\t |\" + core0_reg_data[3] + \"\\t\" + core0_reg_data[4] + \"\\t\\t\\t\\t\\t|\")\n",
    "print(\"c0 store x4 in P0ToP1_0  |\\t\\t\" + str(core0_P0ToP1_0_data) + \"\\t\\t\\t\\t|\\t\\t\\t\\t\" + str(core1_P1ToP0_0_data))\n",
    "print(\"c1 load x5 from P1ToP0_0 |\\t\\t\\t\\t\\t\\t|\" + core1_reg_data[5])\n",
    "print(\"c1 x6 = x5 + 1 \\t\\t |\\t\\t\\t\\t\\t\\t|\\t\" + core1_reg_data[6])\n",
    "print(\"c1 store x6 in P0ToP1_0  |\\t\\t\\t\\t\"+ str(core0_P1ToP0_0_data) + \"\\t\\t|\\t\\t\" + str(core1_P0ToP1_0_data))\n",
    "print(\"c0 load x3 from P1ToP0_0 |\" + core0_x3_dat + \"\\t\\t\\t\\t\\t\\t|\")"
   ]
  },
  {
   "cell_type": "code",
   "execution_count": null,
   "metadata": {},
   "outputs": [],
   "source": []
  }
 ],
 "metadata": {
  "kernelspec": {
   "display_name": "Python 3",
   "language": "python",
   "name": "python3"
  },
  "language_info": {
   "codemirror_mode": {
    "name": "ipython",
    "version": 3
   },
   "file_extension": ".py",
   "mimetype": "text/x-python",
   "name": "python",
   "nbconvert_exporter": "python",
   "pygments_lexer": "ipython3",
   "version": "3.6.0"
  }
 },
 "nbformat": 4,
 "nbformat_minor": 2
}
